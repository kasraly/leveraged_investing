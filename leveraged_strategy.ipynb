{
 "nbformat": 4,
 "nbformat_minor": 2,
 "metadata": {
  "language_info": {
   "name": "python",
   "codemirror_mode": {
    "name": "ipython",
    "version": 3
   },
   "version": "3.7.7-final"
  },
  "orig_nbformat": 2,
  "file_extension": ".py",
  "mimetype": "text/x-python",
  "name": "python",
  "npconvert_exporter": "python",
  "pygments_lexer": "ipython3",
  "version": 3,
  "kernelspec": {
   "name": "python3",
   "display_name": "Python 3"
  }
 },
 "cells": [
  {
   "cell_type": "code",
   "execution_count": 1,
   "metadata": {},
   "outputs": [],
   "source": [
    "import pandas as pd\n",
    "import matplotlib.pyplot as plt\n",
    "import numpy as np\n",
    "%matplotlib qt\n",
    "\n",
    "spy = pd.read_csv('SPY.csv')\n",
    ""
   ]
  },
  {
   "cell_type": "code",
   "execution_count": 2,
   "metadata": {},
   "outputs": [
    {
     "output_type": "execute_result",
     "data": {
      "text/plain": "            Date        Open        High         Low       Close   Adj Close  \\\n6849  2020-04-13  277.140015  277.510010  271.410004  275.660004  275.660004   \n6850  2020-04-14  280.980011  284.899994  275.510010  283.790009  283.790009   \n6851  2020-04-15  277.570007  283.940002  275.459991  277.760010  277.760010   \n6852  2020-04-16  279.149994  280.029999  275.760010  279.100006  279.100006   \n6853  2020-04-17  285.380005  287.299988  282.399994  286.640015  286.640015   \n\n         Volume  \n6849  114839100  \n6850  134143400  \n6851  121775000  \n6852  127416800  \n6853  146520100  ",
      "text/html": "<div>\n<style scoped>\n    .dataframe tbody tr th:only-of-type {\n        vertical-align: middle;\n    }\n\n    .dataframe tbody tr th {\n        vertical-align: top;\n    }\n\n    .dataframe thead th {\n        text-align: right;\n    }\n</style>\n<table border=\"1\" class=\"dataframe\">\n  <thead>\n    <tr style=\"text-align: right;\">\n      <th></th>\n      <th>Date</th>\n      <th>Open</th>\n      <th>High</th>\n      <th>Low</th>\n      <th>Close</th>\n      <th>Adj Close</th>\n      <th>Volume</th>\n    </tr>\n  </thead>\n  <tbody>\n    <tr>\n      <th>6849</th>\n      <td>2020-04-13</td>\n      <td>277.140015</td>\n      <td>277.510010</td>\n      <td>271.410004</td>\n      <td>275.660004</td>\n      <td>275.660004</td>\n      <td>114839100</td>\n    </tr>\n    <tr>\n      <th>6850</th>\n      <td>2020-04-14</td>\n      <td>280.980011</td>\n      <td>284.899994</td>\n      <td>275.510010</td>\n      <td>283.790009</td>\n      <td>283.790009</td>\n      <td>134143400</td>\n    </tr>\n    <tr>\n      <th>6851</th>\n      <td>2020-04-15</td>\n      <td>277.570007</td>\n      <td>283.940002</td>\n      <td>275.459991</td>\n      <td>277.760010</td>\n      <td>277.760010</td>\n      <td>121775000</td>\n    </tr>\n    <tr>\n      <th>6852</th>\n      <td>2020-04-16</td>\n      <td>279.149994</td>\n      <td>280.029999</td>\n      <td>275.760010</td>\n      <td>279.100006</td>\n      <td>279.100006</td>\n      <td>127416800</td>\n    </tr>\n    <tr>\n      <th>6853</th>\n      <td>2020-04-17</td>\n      <td>285.380005</td>\n      <td>287.299988</td>\n      <td>282.399994</td>\n      <td>286.640015</td>\n      <td>286.640015</td>\n      <td>146520100</td>\n    </tr>\n  </tbody>\n</table>\n</div>"
     },
     "metadata": {},
     "execution_count": 2
    }
   ],
   "source": [
    "spy.tail()"
   ]
  },
  {
   "cell_type": "code",
   "execution_count": 3,
   "metadata": {},
   "outputs": [],
   "source": [
    "spy['price'] = spy['Adj Close']\n",
    "spy['52_week_high'] = spy['price'].rolling(250,min_periods=1).max()\n",
    "spy['1_week_high'] = spy['price'].rolling(5,min_periods=1).max()\n",
    "spy['4_week_high'] = spy['price'].rolling(20,min_periods=1).max()\n",
    "spy['13_week_high'] = spy['price'].rolling(65,min_periods=1).max()\n",
    "spy['high'] = spy['4_week_high']\n",
    ""
   ]
  },
  {
   "cell_type": "code",
   "execution_count": 5,
   "metadata": {
    "tags": [
     "outputPrepend",
     "outputPrepend",
     "outputPrepend",
     "outputPrepend",
     "outputPrepend",
     "outputPrepend",
     "outputPrepend",
     "outputPrepend",
     "outputPrepend"
    ]
   },
   "outputs": [
    {
     "output_type": "stream",
     "name": "stdout",
     "text": "1996-07-15, drop-7.4%, recovered day 1996-09-13\n1997-03-31, drop-7.4%, recovered day 1997-05-02\n1997-10-27, drop-11.2%, recovered day 1997-12-05\n1998-08-04, drop-9.8%, recovered day 1998-11-23\n1999-08-04, drop-7.9%, recovered day 1999-11-17\n2000-01-28, drop-7.6%, recovered day 2000-03-17\n2000-04-14, drop-11.4%, recovered day 2006-10-26\n2000-10-10, drop-7.8%, recovered day 2006-10-12\n2000-11-22, drop-8.1%, recovered day 2006-05-05\n2001-02-21, drop-8.9%, recovered day 2006-01-04\n2001-06-14, drop-7.3%, recovered day 2005-07-14\n2001-08-30, drop-7.1%, recovered day 2004-11-04\n2001-09-19, drop-14.3%, recovered day 2004-01-21\n2002-05-06, drop-7.0%, recovered day 2003-12-29\n2002-07-19, drop-15.1%, recovered day 2003-06-04\n2002-09-03, drop-8.7%, recovered day 2003-05-27\n2003-01-24, drop-7.4%, recovered day 2003-05-02\n2007-08-03, drop-7.3%, recovered day 2007-10-05\n2007-11-12, drop-7.1%, recovered day 2012-03-19\n2008-01-08, drop-8.2%, recovered day 2012-03-13\n2008-06-26, drop-8.5%, recovered day 2011-02-08\n2008-09-15, drop-7.8%, recovered day 2010-12-09\n2008-10-06, drop-16.5%, recovered day 2010-04-14\n2008-10-08, drop-22.2%, recovered day 2010-04-14\n2008-10-10, drop-28.7%, recovered day 2010-04-14\n2009-01-14, drop-9.7%, recovered day 2009-05-08\n2009-02-23, drop-14.6%, recovered day 2009-04-17\n2009-03-05, drop-21.0%, recovered day 2009-04-16\n2010-02-04, drop-7.5%, recovered day 2010-03-11\n2010-05-06, drop-7.3%, recovered day 2010-11-04\n2010-06-30, drop-7.6%, recovered day 2010-08-02\n2011-08-02, drop-7.3%, recovered day 2012-02-03\n2011-08-08, drop-16.6%, recovered day 2012-02-03\n2011-09-22, drop-7.2%, recovered day 2011-10-14\n2011-11-22, drop-7.3%, recovered day 2012-01-05\n2012-05-17, drop-7.0%, recovered day 2012-08-07\n2012-11-14, drop-7.0%, recovered day 2013-01-02\n2014-10-15, drop-7.2%, recovered day 2014-10-31\n2015-08-24, drop-10.1%, recovered day 2015-11-02\n2016-01-08, drop-7.5%, recovered day 2016-04-01\n2018-02-05, drop-7.9%, recovered day 2018-08-06\n2018-03-23, drop-7.1%, recovered day 2018-06-08\n2018-10-24, drop-9.1%, recovered day 2019-04-08\n2018-12-17, drop-8.6%, recovered day 2019-02-19\n2018-12-24, drop-15.6%, recovered day 2019-02-19\n2020-02-25, drop-7.6%, recovered day 2020-04-17\n2020-03-09, drop-18.9%, recovered day 2020-04-17\n2020-03-12, drop-26.7%, recovered day 2020-04-17\n2020-03-16, drop-29.1%, recovered day 2020-04-17\n"
    }
   ],
   "source": [
    "drop = 0.07\n",
    "recovery_time = []\n",
    "for idx, row in spy.iterrows():\n",
    "    if row['price'] >= row['high']:\n",
    "        drop = 0.07\n",
    "    if row['price'] < row['high'] * (1 - drop):\n",
    "        drop = drop + 0.07\n",
    "        recovery = np.nonzero(np.logical_and(spy['Date'] > row['Date'], spy['price'] > row['high']).to_numpy())[0]\n",
    "        if len(recovery) > 0:\n",
    "            recovery_idx = recovery[0]\n",
    "        else:\n",
    "            recovery_idx = len(spy)-1\n",
    "        # print(recovery_idx)\n",
    "        print(\"{}, drop{:.1f}%, recovered day {}\".format(row['Date'], (row['price']/row['high'] - 1)*100, spy.iloc[recovery_idx]['Date']))"
   ]
  },
  {
   "cell_type": "code",
   "execution_count": null,
   "metadata": {},
   "outputs": [],
   "source": [
    "spy['52_week_low'] = spy['price'].rolling(200,min_periods=1).min()\n",
    "spy['index_diff'] = spy['price'].rolling(200,min_periods=1).apply(lambda x: x.argmin()-(len(x)-1))\n",
    "spy['52_week_low_date'] = sp500.index + sp500['index_diff'].apply(lambda x: pd.DateOffset(x))"
   ]
  },
  {
   "cell_type": "code",
   "execution_count": 73,
   "metadata": {},
   "outputs": [],
   "source": [
    "sp500['change_from_low'] = (sp500['price'] - sp500['52_week_low']) / sp500['52_week_low']\n",
    "sp500['change'] = (sp500['price'] - sp500['price'].shift()) / sp500['price'].shift() \n",
    "sp500['change_from_low_annual'] = (sp500['price'] - sp500['52_week_low']) / sp500['52_week_low'] / (np.maximum(50, abs(sp500['index_diff']))/200)\n"
   ]
  },
  {
   "cell_type": "code",
   "execution_count": 74,
   "metadata": {},
   "outputs": [
    {
     "data": {
      "text/plain": "<matplotlib.axes._subplots.AxesSubplot at 0x18baba0c9b0>"
     },
     "execution_count": 74,
     "metadata": {},
     "output_type": "execute_result"
    }
   ],
   "source": [
    "sp500.plot(y=['change_from_low', 'change_from_low_annual'])"
   ]
  },
  {
   "cell_type": "markdown",
   "metadata": {},
   "source": [
    "sp500.plot(y=['price'],log)"
   ]
  }
 ]
}