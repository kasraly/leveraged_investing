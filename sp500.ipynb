{
 "nbformat": 4,
 "nbformat_minor": 2,
 "metadata": {
  "language_info": {
   "name": "python",
   "codemirror_mode": {
    "name": "ipython",
    "version": 3
   },
   "version": "3.6.8-final"
  },
  "orig_nbformat": 2,
  "file_extension": ".py",
  "mimetype": "text/x-python",
  "name": "python",
  "npconvert_exporter": "python",
  "pygments_lexer": "ipython3",
  "version": 3,
  "kernelspec": {
   "name": "python3",
   "display_name": "Python 3"
  }
 },
 "cells": [
  {
   "cell_type": "code",
   "execution_count": 69,
   "metadata": {},
   "outputs": [],
   "source": [
    "import pandas as pd\n",
    "import matplotlib.pyplot as plt\n",
    "import numpy as np\n",
    "%matplotlib qt\n",
    "\n",
    "plt.ion()\n",
    "\n",
    "sp500 = pd.read_csv('sp500.csv')\n",
    "sp500['Date'] = pd.to_datetime(sp500['Date'],format='%Y-%m-%d')\n",
    "sp500 = sp500.set_index('Date')\n"
   ]
  },
  {
   "cell_type": "code",
   "execution_count": 36,
   "metadata": {},
   "outputs": [
    {
     "data": {
      "text/html": "<div>\n<style scoped>\n    .dataframe tbody tr th:only-of-type {\n        vertical-align: middle;\n    }\n\n    .dataframe tbody tr th {\n        vertical-align: top;\n    }\n\n    .dataframe thead th {\n        text-align: right;\n    }\n</style>\n<table border=\"1\" class=\"dataframe\">\n  <thead>\n    <tr style=\"text-align: right;\">\n      <th></th>\n      <th>Open</th>\n      <th>High</th>\n      <th>Low</th>\n      <th>Close</th>\n      <th>Adj Close</th>\n      <th>Volume</th>\n      <th>price</th>\n      <th>52_week_low</th>\n    </tr>\n    <tr>\n      <th>Date</th>\n      <th></th>\n      <th></th>\n      <th></th>\n      <th></th>\n      <th></th>\n      <th></th>\n      <th></th>\n      <th></th>\n    </tr>\n  </thead>\n  <tbody>\n    <tr>\n      <th>2020-03-04</th>\n      <td>3045.750000</td>\n      <td>3130.969971</td>\n      <td>3034.379883</td>\n      <td>3130.120117</td>\n      <td>3130.120117</td>\n      <td>5.035480e+09</td>\n      <td>3130.120117</td>\n      <td>2744.449951</td>\n    </tr>\n    <tr>\n      <th>2020-03-05</th>\n      <td>3075.699951</td>\n      <td>3083.040039</td>\n      <td>2999.830078</td>\n      <td>3023.939941</td>\n      <td>3023.939941</td>\n      <td>5.575550e+09</td>\n      <td>3023.939941</td>\n      <td>2744.449951</td>\n    </tr>\n    <tr>\n      <th>2020-03-06</th>\n      <td>2954.199951</td>\n      <td>2985.929932</td>\n      <td>2901.540039</td>\n      <td>2972.370117</td>\n      <td>2972.370117</td>\n      <td>6.552140e+09</td>\n      <td>2972.370117</td>\n      <td>2744.449951</td>\n    </tr>\n    <tr>\n      <th>2020-03-09</th>\n      <td>2863.889893</td>\n      <td>2863.889893</td>\n      <td>2734.429932</td>\n      <td>2746.560059</td>\n      <td>2746.560059</td>\n      <td>8.423050e+09</td>\n      <td>2746.560059</td>\n      <td>2744.449951</td>\n    </tr>\n    <tr>\n      <th>2020-03-10</th>\n      <td>2813.479980</td>\n      <td>2882.590088</td>\n      <td>2734.000000</td>\n      <td>2882.229980</td>\n      <td>2882.229980</td>\n      <td>7.635960e+09</td>\n      <td>2882.229980</td>\n      <td>2744.449951</td>\n    </tr>\n  </tbody>\n</table>\n</div>",
      "text/plain": "                   Open         High          Low        Close    Adj Close  \\\nDate                                                                          \n2020-03-04  3045.750000  3130.969971  3034.379883  3130.120117  3130.120117   \n2020-03-05  3075.699951  3083.040039  2999.830078  3023.939941  3023.939941   \n2020-03-06  2954.199951  2985.929932  2901.540039  2972.370117  2972.370117   \n2020-03-09  2863.889893  2863.889893  2734.429932  2746.560059  2746.560059   \n2020-03-10  2813.479980  2882.590088  2734.000000  2882.229980  2882.229980   \n\n                  Volume        price  52_week_low  \nDate                                                \n2020-03-04  5.035480e+09  3130.120117  2744.449951  \n2020-03-05  5.575550e+09  3023.939941  2744.449951  \n2020-03-06  6.552140e+09  2972.370117  2744.449951  \n2020-03-09  8.423050e+09  2746.560059  2744.449951  \n2020-03-10  7.635960e+09  2882.229980  2744.449951  "
     },
     "execution_count": 36,
     "metadata": {},
     "output_type": "execute_result"
    }
   ],
   "source": [
    "sp500.tail()"
   ]
  },
  {
   "cell_type": "code",
   "execution_count": 70,
   "metadata": {},
   "outputs": [],
   "source": [
    "sp500['price'] = sp500['Adj Close']\n",
    "sp500['52_week_low'] = sp500['price'].rolling(200,min_periods=1).min()\n",
    "sp500['index_diff'] = sp500['price'].rolling(200,min_periods=1).apply(lambda x: x.argmin()-(len(x)-1))\n",
    "sp500['52_week_low_date'] = sp500.index + sp500['index_diff'].apply(lambda x: pd.DateOffset(x))"
   ]
  },
  {
   "cell_type": "code",
   "execution_count": 73,
   "metadata": {},
   "outputs": [],
   "source": [
    "sp500['change_from_low'] = (sp500['price'] - sp500['52_week_low']) / sp500['52_week_low']\n",
    "sp500['change'] = (sp500['price'] - sp500['price'].shift()) / sp500['price'].shift() \n",
    "sp500['change_from_low_annual'] = (sp500['price'] - sp500['52_week_low']) / sp500['52_week_low'] / (np.maximum(50, abs(sp500['index_diff']))/200)\n"
   ]
  },
  {
   "cell_type": "code",
   "execution_count": 74,
   "metadata": {},
   "outputs": [
    {
     "data": {
      "text/plain": "<matplotlib.axes._subplots.AxesSubplot at 0x18baba0c9b0>"
     },
     "execution_count": 74,
     "metadata": {},
     "output_type": "execute_result"
    }
   ],
   "source": [
    "sp500.plot(y=['change_from_low', 'change_from_low_annual'])"
   ]
  },
  {
   "cell_type": "markdown",
   "metadata": {},
   "source": [
    "sp500.plot(y=['price'],log)"
   ]
  }
 ]
}